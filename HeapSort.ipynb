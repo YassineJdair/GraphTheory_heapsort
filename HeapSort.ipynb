{
 "cells": [
  {
   "cell_type": "markdown",
   "id": "e3c051a4",
   "metadata": {},
   "source": [
    "# HeapSort\n",
    "\n",
    "***"
   ]
  },
  {
   "cell_type": "markdown",
   "id": "1b3fbe25",
   "metadata": {},
   "source": [
    "## Lists In Python\n",
    "***"
   ]
  },
  {
   "cell_type": "code",
   "execution_count": 1,
   "id": "8b8ace99",
   "metadata": {},
   "outputs": [],
   "source": [
    "#lists in python can be created with sqaure bracket notation.\n",
    "L = [1, 2, 3, \"Hello, World!\", None, True]"
   ]
  },
  {
   "cell_type": "code",
   "execution_count": 2,
   "id": "417d94be",
   "metadata": {},
   "outputs": [
    {
     "data": {
      "text/plain": [
       "True"
      ]
     },
     "execution_count": 2,
     "metadata": {},
     "output_type": "execute_result"
    }
   ],
   "source": [
    "#they are zero indexed\n",
    "L[5]"
   ]
  },
  {
   "cell_type": "code",
   "execution_count": 3,
   "id": "fd80a464",
   "metadata": {},
   "outputs": [
    {
     "data": {
      "text/plain": [
       "[1, 2, 3]"
      ]
     },
     "execution_count": 3,
     "metadata": {},
     "output_type": "execute_result"
    }
   ],
   "source": [
    "#Create lists with list() function\n",
    "list({1,2,3,3})"
   ]
  },
  {
   "cell_type": "code",
   "execution_count": 4,
   "id": "ef3d8dae",
   "metadata": {},
   "outputs": [
    {
     "data": {
      "text/plain": [
       "True"
      ]
     },
     "execution_count": 4,
     "metadata": {},
     "output_type": "execute_result"
    }
   ],
   "source": [
    "#Using negative indexes.\n",
    "L[-1]"
   ]
  },
  {
   "cell_type": "code",
   "execution_count": 5,
   "id": "cb4275d5",
   "metadata": {},
   "outputs": [
    {
     "data": {
      "text/plain": [
       "'Hello, World!'"
      ]
     },
     "execution_count": 5,
     "metadata": {},
     "output_type": "execute_result"
    }
   ],
   "source": [
    "#Third last element\n",
    "L[-3]"
   ]
  },
  {
   "cell_type": "code",
   "execution_count": 6,
   "id": "9781f578",
   "metadata": {},
   "outputs": [
    {
     "data": {
      "text/plain": [
       "[0,\n",
       " 2,\n",
       " 4,\n",
       " 6,\n",
       " 8,\n",
       " 10,\n",
       " 12,\n",
       " 14,\n",
       " 16,\n",
       " 18,\n",
       " 20,\n",
       " 22,\n",
       " 24,\n",
       " 26,\n",
       " 28,\n",
       " 30,\n",
       " 32,\n",
       " 34,\n",
       " 36,\n",
       " 38,\n",
       " 40,\n",
       " 42,\n",
       " 44,\n",
       " 46,\n",
       " 48,\n",
       " 50,\n",
       " 52,\n",
       " 54,\n",
       " 56,\n",
       " 58,\n",
       " 60,\n",
       " 62,\n",
       " 64,\n",
       " 66,\n",
       " 68,\n",
       " 70,\n",
       " 72,\n",
       " 74,\n",
       " 76,\n",
       " 78,\n",
       " 80,\n",
       " 82,\n",
       " 84,\n",
       " 86,\n",
       " 88,\n",
       " 90,\n",
       " 92,\n",
       " 94,\n",
       " 96,\n",
       " 98]"
      ]
     },
     "execution_count": 6,
     "metadata": {},
     "output_type": "execute_result"
    }
   ],
   "source": [
    "#In-Built functions for creating iterables\n",
    "list(range(0, 100, 2))"
   ]
  },
  {
   "cell_type": "code",
   "execution_count": 7,
   "id": "2fc72bc9",
   "metadata": {},
   "outputs": [
    {
     "data": {
      "text/plain": [
       "[0, 1, 2, 3, 4, 5, 6, 7, 8, 9, 10, 11, 12, 13, 14, 15, 16, 17, 18, 19]"
      ]
     },
     "execution_count": 7,
     "metadata": {},
     "output_type": "execute_result"
    }
   ],
   "source": [
    "#In-Built functions for creating iterables\n",
    "L = list(range(20))\n",
    "L"
   ]
  },
  {
   "cell_type": "code",
   "execution_count": 8,
   "id": "b59f6bc6",
   "metadata": {},
   "outputs": [
    {
     "data": {
      "text/plain": [
       "[1, 3, 5, 7, 9]"
      ]
     },
     "execution_count": 8,
     "metadata": {},
     "output_type": "execute_result"
    }
   ],
   "source": [
    "# list slicing.\n",
    "L[1:10:2]"
   ]
  },
  {
   "cell_type": "code",
   "execution_count": 9,
   "id": "6341a4be",
   "metadata": {},
   "outputs": [
    {
     "data": {
      "text/plain": [
       "[5, 6, 7, 8, 9, 10, 11, 12, 13, 14, 15, 16, 17, 18, 19, 0, 1, 2, 3, 4]"
      ]
     },
     "execution_count": 9,
     "metadata": {},
     "output_type": "execute_result"
    }
   ],
   "source": [
    "#Quick way to cycle the list to the left\n",
    "i = 5\n",
    "L[i:] + L[:i]"
   ]
  },
  {
   "cell_type": "code",
   "execution_count": 10,
   "id": "5dfa2b33",
   "metadata": {},
   "outputs": [
    {
     "data": {
      "text/plain": [
       "[0, 1, 2, 3, 4]"
      ]
     },
     "execution_count": 10,
     "metadata": {},
     "output_type": "execute_result"
    }
   ],
   "source": [
    "L[:5]"
   ]
  },
  {
   "cell_type": "code",
   "execution_count": 11,
   "id": "b1b9b947",
   "metadata": {},
   "outputs": [
    {
     "data": {
      "text/plain": [
       "[5, 6, 7, 8, 9, 10, 11, 12, 13, 14, 15, 16, 17, 18, 19]"
      ]
     },
     "execution_count": 11,
     "metadata": {},
     "output_type": "execute_result"
    }
   ],
   "source": [
    "L[5:]"
   ]
  },
  {
   "cell_type": "code",
   "execution_count": 12,
   "id": "5cbd13a2",
   "metadata": {},
   "outputs": [],
   "source": [
    "#Tuples -- immutabvle\n",
    "T = (1,2,3,4)"
   ]
  },
  {
   "cell_type": "code",
   "execution_count": 13,
   "id": "ea400c81",
   "metadata": {},
   "outputs": [
    {
     "data": {
      "text/plain": [
       "1"
      ]
     },
     "execution_count": 13,
     "metadata": {},
     "output_type": "execute_result"
    }
   ],
   "source": [
    "#select elements\n",
    "T[0]"
   ]
  },
  {
   "cell_type": "code",
   "execution_count": 14,
   "id": "e5a72785",
   "metadata": {},
   "outputs": [
    {
     "data": {
      "text/plain": [
       "(4,)"
      ]
     },
     "execution_count": 14,
     "metadata": {},
     "output_type": "execute_result"
    }
   ],
   "source": [
    "#slice\n",
    "T[3:]"
   ]
  },
  {
   "cell_type": "code",
   "execution_count": 15,
   "id": "84eac565",
   "metadata": {},
   "outputs": [],
   "source": [
    "#cant assign would give error\n",
    "#t[2] = 100"
   ]
  },
  {
   "cell_type": "code",
   "execution_count": 16,
   "id": "f0fcd4cd",
   "metadata": {},
   "outputs": [
    {
     "data": {
      "text/plain": [
       "(1, 2, 3, 4)"
      ]
     },
     "execution_count": 16,
     "metadata": {},
     "output_type": "execute_result"
    }
   ],
   "source": [
    "#tuples created with commas, as opposed to round bracekts\n",
    "T = 1, 2, 3, 4\n",
    "T"
   ]
  },
  {
   "cell_type": "code",
   "execution_count": 17,
   "id": "c32991f3",
   "metadata": {},
   "outputs": [
    {
     "data": {
      "text/plain": [
       "590899387183067792"
      ]
     },
     "execution_count": 17,
     "metadata": {},
     "output_type": "execute_result"
    }
   ],
   "source": [
    "hash(T)"
   ]
  },
  {
   "cell_type": "code",
   "execution_count": 18,
   "id": "15474947",
   "metadata": {},
   "outputs": [],
   "source": [
    "#you can use tuples for assignment\n",
    "a, b = 3, 4"
   ]
  },
  {
   "cell_type": "code",
   "execution_count": 19,
   "id": "01afc4bc",
   "metadata": {},
   "outputs": [
    {
     "data": {
      "text/plain": [
       "3"
      ]
     },
     "execution_count": 19,
     "metadata": {},
     "output_type": "execute_result"
    }
   ],
   "source": [
    "a"
   ]
  },
  {
   "cell_type": "code",
   "execution_count": 20,
   "id": "fff04d94",
   "metadata": {},
   "outputs": [
    {
     "data": {
      "text/plain": [
       "4"
      ]
     },
     "execution_count": 20,
     "metadata": {},
     "output_type": "execute_result"
    }
   ],
   "source": [
    "b"
   ]
  },
  {
   "cell_type": "code",
   "execution_count": 21,
   "id": "f2b4f48e",
   "metadata": {},
   "outputs": [],
   "source": [
    "a, b = b, a"
   ]
  },
  {
   "cell_type": "code",
   "execution_count": 22,
   "id": "2e756b75",
   "metadata": {},
   "outputs": [
    {
     "data": {
      "text/plain": [
       "4"
      ]
     },
     "execution_count": 22,
     "metadata": {},
     "output_type": "execute_result"
    }
   ],
   "source": [
    "a"
   ]
  },
  {
   "cell_type": "code",
   "execution_count": 23,
   "id": "050c7375",
   "metadata": {},
   "outputs": [
    {
     "data": {
      "text/plain": [
       "3"
      ]
     },
     "execution_count": 23,
     "metadata": {},
     "output_type": "execute_result"
    }
   ],
   "source": [
    "b"
   ]
  },
  {
   "cell_type": "code",
   "execution_count": 24,
   "id": "e88447f9",
   "metadata": {},
   "outputs": [
    {
     "data": {
      "text/plain": [
       "[0, 1, 2, 3, 4, 5, 6, 7, 8, 9]"
      ]
     },
     "execution_count": 24,
     "metadata": {},
     "output_type": "execute_result"
    }
   ],
   "source": [
    "# List integers\n",
    "L = list(range(10))\n",
    "L"
   ]
  },
  {
   "cell_type": "code",
   "execution_count": 25,
   "id": "f11667fe",
   "metadata": {},
   "outputs": [
    {
     "data": {
      "text/plain": [
       "[0, 1, 8, 27, 64, 125, 216, 343, 512, 729]"
      ]
     },
     "execution_count": 25,
     "metadata": {},
     "output_type": "execute_result"
    }
   ],
   "source": [
    "#List comprehension\n",
    "[i**3 for i in L ]"
   ]
  },
  {
   "cell_type": "code",
   "execution_count": 26,
   "id": "7ff77228",
   "metadata": {},
   "outputs": [
    {
     "data": {
      "text/plain": [
       "[9, 8, 7, 6, 5, 4, 3, 2, 1, 0]"
      ]
     },
     "execution_count": 26,
     "metadata": {},
     "output_type": "execute_result"
    }
   ],
   "source": [
    "#curve ball\n",
    "L[::-1]"
   ]
  },
  {
   "cell_type": "markdown",
   "id": "afeecc14",
   "metadata": {},
   "source": [
    "<br>\n",
    "\n",
    "## Bubble Sort\n",
    "***"
   ]
  },
  {
   "cell_type": "code",
   "execution_count": 27,
   "id": "c11b8c77",
   "metadata": {},
   "outputs": [],
   "source": [
    "#import module from the standard library\n",
    "import random"
   ]
  },
  {
   "cell_type": "code",
   "execution_count": 28,
   "id": "8dc315d4",
   "metadata": {},
   "outputs": [
    {
     "data": {
      "text/plain": [
       "[1, 2, 3, 4, 5, 6, 7, 8, 9, 10]"
      ]
     },
     "execution_count": 28,
     "metadata": {},
     "output_type": "execute_result"
    }
   ],
   "source": [
    "#create list of integers\n",
    "L = list(range(1,11))\n",
    "L"
   ]
  },
  {
   "cell_type": "code",
   "execution_count": 29,
   "id": "2f58d149",
   "metadata": {},
   "outputs": [],
   "source": [
    "#shuffle list\n",
    "random.shuffle(L)"
   ]
  },
  {
   "cell_type": "code",
   "execution_count": 30,
   "id": "659cb4b2",
   "metadata": {},
   "outputs": [
    {
     "data": {
      "text/plain": [
       "[10, 1, 8, 9, 7, 4, 2, 5, 6, 3]"
      ]
     },
     "execution_count": 30,
     "metadata": {},
     "output_type": "execute_result"
    }
   ],
   "source": [
    "L"
   ]
  },
  {
   "cell_type": "code",
   "execution_count": 31,
   "id": "da2b4ecd",
   "metadata": {},
   "outputs": [
    {
     "data": {
      "text/plain": [
       "[10, 1, 8, 9, 7, 4, 2, 5, 6, 3]"
      ]
     },
     "execution_count": 31,
     "metadata": {},
     "output_type": "execute_result"
    }
   ],
   "source": [
    "#the list is shuffled\n",
    "L"
   ]
  },
  {
   "cell_type": "code",
   "execution_count": 32,
   "id": "9036aaaf",
   "metadata": {},
   "outputs": [],
   "source": [
    "#bubble sort\n",
    "\n",
    "#keep track of number of comparisons\n",
    "no_comparisons = 0\n",
    "\n",
    "# bubble every element up\n",
    "for j in range(len(L)- 1):\n",
    "    #keep track of any swaps.\n",
    "    swapped = False\n",
    "    #compare all elements that are side by side\n",
    "    for i in range(len(L) - 1):\n",
    "        #compare the ith element with the (i+1)th\n",
    "        if L[i] > L[i+1]:\n",
    "            #swap elements\n",
    "            L[i], L[i+1] = L[i+1], L[i]\n",
    "            #keep track of the swap\n",
    "            swapped = True\n",
    "        #add a comparison\n",
    "        no_comparisons = no_comparisons + 1\n",
    "    #quit if we didnt make any swaps.\n",
    "    if not swapped:\n",
    "        break"
   ]
  },
  {
   "cell_type": "code",
   "execution_count": 33,
   "id": "3a2f73c9",
   "metadata": {},
   "outputs": [
    {
     "data": {
      "text/plain": [
       "[1, 2, 3, 4, 5, 6, 7, 8, 9, 10]"
      ]
     },
     "execution_count": 33,
     "metadata": {},
     "output_type": "execute_result"
    }
   ],
   "source": [
    "L\n"
   ]
  },
  {
   "cell_type": "code",
   "execution_count": 34,
   "id": "5e0901d9",
   "metadata": {},
   "outputs": [
    {
     "data": {
      "text/plain": [
       "72"
      ]
     },
     "execution_count": 34,
     "metadata": {},
     "output_type": "execute_result"
    }
   ],
   "source": [
    "no_comparisons"
   ]
  },
  {
   "cell_type": "code",
   "execution_count": 35,
   "id": "2d833252",
   "metadata": {},
   "outputs": [],
   "source": [
    "#bubble sort as a fucntion\n",
    "\n",
    "def bubble_sort(L):\n",
    "\n",
    "    #keep track of number of comparisons\n",
    "    no_comparisons = 0\n",
    "\n",
    "    # bubble every element up\n",
    "    for j in range(len(L)- 1):\n",
    "        #keep track of any swaps.\n",
    "        swapped = False\n",
    "        #compare all elements that are side by side\n",
    "        for i in range(len(L) - 1 - j):\n",
    "            #compare the ith element with the (i+1)th\n",
    "            if L[i] > L[i+1]:\n",
    "                #swap elements\n",
    "                L[i], L[i+1] = L[i+1], L[i]\n",
    "                #keep track of the swap\n",
    "                swapped = True\n",
    "            #add a comparison\n",
    "            no_comparisons = no_comparisons + 1\n",
    "        #quit if we didnt make any swaps.\n",
    "        if not swapped:\n",
    "            break\n",
    "    #return number comparisons made\n",
    "    return no_comparisons"
   ]
  },
  {
   "cell_type": "code",
   "execution_count": 36,
   "id": "1b8a3cf8",
   "metadata": {},
   "outputs": [
    {
     "data": {
      "text/plain": [
       "[2, 10, 4, 5, 3, 7, 6, 8, 9, 1]"
      ]
     },
     "execution_count": 36,
     "metadata": {},
     "output_type": "execute_result"
    }
   ],
   "source": [
    "#create list\n",
    "L = list(range(1,11))\n",
    "\n",
    "#shuffle it\n",
    "random.shuffle(L)\n",
    "              \n",
    "#look at it.\n",
    "L"
   ]
  },
  {
   "cell_type": "code",
   "execution_count": 37,
   "id": "58eca60f",
   "metadata": {},
   "outputs": [
    {
     "data": {
      "text/plain": [
       "45"
      ]
     },
     "execution_count": 37,
     "metadata": {},
     "output_type": "execute_result"
    }
   ],
   "source": [
    "# the function works on l in place\n",
    "bubble_sort(L)"
   ]
  },
  {
   "cell_type": "code",
   "execution_count": 38,
   "id": "79844d7f",
   "metadata": {},
   "outputs": [
    {
     "data": {
      "text/plain": [
       "[1, 2, 3, 4, 5, 6, 7, 8, 9, 10]"
      ]
     },
     "execution_count": 38,
     "metadata": {},
     "output_type": "execute_result"
    }
   ],
   "source": [
    "L"
   ]
  },
  {
   "cell_type": "code",
   "execution_count": 39,
   "id": "d0985c7e",
   "metadata": {},
   "outputs": [
    {
     "data": {
      "text/plain": [
       "9"
      ]
     },
     "execution_count": 39,
     "metadata": {},
     "output_type": "execute_result"
    }
   ],
   "source": [
    "# once the list is sorted  - bubble sort is O(n)\n",
    "bubble_sort(L)"
   ]
  },
  {
   "cell_type": "code",
   "execution_count": 40,
   "id": "d5c72218",
   "metadata": {},
   "outputs": [
    {
     "data": {
      "text/plain": [
       "[10, 9, 8, 7, 6, 5, 4, 3, 2, 1]"
      ]
     },
     "execution_count": 40,
     "metadata": {},
     "output_type": "execute_result"
    }
   ],
   "source": [
    "#worst case\n",
    "L[::-1]"
   ]
  },
  {
   "cell_type": "code",
   "execution_count": 41,
   "id": "7bae90cd",
   "metadata": {},
   "outputs": [
    {
     "data": {
      "text/plain": [
       "45"
      ]
     },
     "execution_count": 41,
     "metadata": {},
     "output_type": "execute_result"
    }
   ],
   "source": [
    "#this is still 0(n^2)\n",
    "bubble_sort(L[::-1])"
   ]
  },
  {
   "cell_type": "code",
   "execution_count": 42,
   "id": "ca60902d",
   "metadata": {},
   "outputs": [
    {
     "data": {
      "text/plain": [
       "45"
      ]
     },
     "execution_count": 42,
     "metadata": {},
     "output_type": "execute_result"
    }
   ],
   "source": [
    "sum(range(10))"
   ]
  },
  {
   "cell_type": "markdown",
   "id": "e3203079",
   "metadata": {},
   "source": [
    "## HeapSort\n",
    "***"
   ]
  },
  {
   "cell_type": "markdown",
   "id": "17c56c3d",
   "metadata": {},
   "source": [
    "<img src = \"https://upload.wikimedia.org/wikipedia/commons/thumb/c/c4/Max-Heap-new.svg/854px-Max-Heap-new.svg.png\" width = \"250px\"></"
   ]
  },
  {
   "cell_type": "markdown",
   "id": "064daab0",
   "metadata": {},
   "source": [
    "#### Transplanted from Wikipedia\n",
    "\n",
    "https://en.wikipedia.org/wiki/Heapsort"
   ]
  },
  {
   "cell_type": "code",
   "execution_count": 43,
   "id": "08361c8e",
   "metadata": {},
   "outputs": [],
   "source": [
    "def siftDown(L, parent, end):    \n",
    "    \"\"\"L[:end + 1] should almost be a max heap.\n",
    "       sift down repairs it so that it is one\"\"\"\n",
    "    \n",
    "    #keep track of the number of comparisons\n",
    "    no_comparisons = 0\n",
    "    \n",
    "    #while parent is actually a parent (has atleast a left child.)\n",
    "    while 2*parent + 1 <= end:\n",
    "        #indices of left child of parent\n",
    "        lchild = 2 * parent + 1\n",
    "        rchild = 2 * parent + 2\n",
    "        \n",
    "        #assume the parent is larger than the children\n",
    "        swap = parent\n",
    "        \n",
    "        #is parent smaller than the left child\n",
    "        if L[swap] < L[lchild]:\n",
    "            #then swap is set to index of  left child\n",
    "             swap = lchild\n",
    "            #increment no_compariosns\n",
    "        no_comparisons = no_comparisons + 1\n",
    "        #check if right child exists and is smaller than L[swap]\n",
    "        if rchild <= end and L[swap] < L[rchild]:\n",
    "            #swap is set to index of right child\n",
    "            swap = rchild\n",
    "            #increment no_compariosns\n",
    "            no_comparisons = no_comparisons + 1\n",
    "        #we have a max heap if the parent is bigger than the child\n",
    "        if swap == parent:\n",
    "            break\n",
    "        else:\n",
    "            #swap the parent with the bigger child\n",
    "            L[parent], L[swap] = L[swap], L[parent]\n",
    "            #set the parent to bigger chuld index\n",
    "            parent = swap    \n",
    "    #return the number of comparisons\n",
    "    return no_comparisons"
   ]
  },
  {
   "cell_type": "code",
   "execution_count": 44,
   "id": "ff5af34e",
   "metadata": {},
   "outputs": [],
   "source": [
    "def heapsort(L):\n",
    "    \"\"\"Sorts the list L in place using HeapSort.\"\"\"\n",
    "\n",
    "    #keep track of the number of comparisons\n",
    "    no_comparisons = 0\n",
    "    \n",
    "    #index of last element \n",
    "    last_element = len(L) - 1\n",
    "    \n",
    "    #find the last parent\n",
    "    last_parent = (last_element - 1) // 2\n",
    "    #loop backwards through all the parents\n",
    "    for parent in range(last_parent, -1, -1):\n",
    "        # sift down.\n",
    "        no_comparisons = no_comparisons + siftDown(L, parent, last_element)     \n",
    "        \n",
    "    #segregate the list into two parts\n",
    "    #   1. L[end+1:] is a max heap\n",
    "    #   2. each element beyond is greater than everything before it.\n",
    "        \n",
    "    #while there are still elements in the heap\n",
    "    for end in range(last_element, 0, -1):\n",
    "        #swap the element at index 0 to index end\n",
    "        L[0], L[end] = L[end], L[0]  \n",
    "        #fix the heap - root is currently out of place\n",
    "        no_comparisons = no_comparisons + siftDown(L, 0, end - 1) \n",
    "\n",
    "    #return the number of comparisons\n",
    "    return no_comparisons"
   ]
  },
  {
   "cell_type": "code",
   "execution_count": 45,
   "id": "3a5fed43",
   "metadata": {},
   "outputs": [
    {
     "data": {
      "text/plain": [
       "[1, 2, 3, 4, 5, 6, 7, 8, 9, 10]"
      ]
     },
     "execution_count": 45,
     "metadata": {},
     "output_type": "execute_result"
    }
   ],
   "source": [
    "#show heap sort works\n",
    "heapsort(L)\n",
    "L"
   ]
  },
  {
   "cell_type": "markdown",
   "id": "81d0c0ee",
   "metadata": {},
   "source": [
    "<br>\n",
    "\n",
    "## Coparing Algorthims\n",
    "***"
   ]
  },
  {
   "cell_type": "code",
   "execution_count": 46,
   "id": "631aed0d",
   "metadata": {},
   "outputs": [
    {
     "data": {
      "text/plain": [
       "([1, 2, 3, 7, 17, 19, 25, 36, 100], 19)"
      ]
     },
     "execution_count": 46,
     "metadata": {},
     "output_type": "execute_result"
    }
   ],
   "source": [
    "#preform heapsort, show number of comparisons\n",
    "L = [19, 100, 36, 25, 3, 17, 7, 1, 2]\n",
    "no_comparisons = heapsort(L)\n",
    "L, no_comparisons"
   ]
  },
  {
   "cell_type": "code",
   "execution_count": 47,
   "id": "916c0213",
   "metadata": {},
   "outputs": [
    {
     "data": {
      "text/plain": [
       "([1, 2, 3, 7, 17, 19, 25, 36, 100], 36)"
      ]
     },
     "execution_count": 47,
     "metadata": {},
     "output_type": "execute_result"
    }
   ],
   "source": [
    "#preform heapsort, show number of comparisons\n",
    "L = [19, 100, 36, 25, 3, 17, 7, 1, 2]\n",
    "no_comparisons = bubble_sort(L)\n",
    "L, no_comparisons"
   ]
  },
  {
   "cell_type": "code",
   "execution_count": 48,
   "id": "5236d63b",
   "metadata": {},
   "outputs": [
    {
     "name": "stdout",
     "output_type": "stream",
     "text": [
      "0, 1, 2, 3, 4|4|9\n",
      "0, 1, 2, 4, 3|7|9\n",
      "0, 1, 3, 2, 4|7|8\n",
      "0, 1, 3, 4, 2|9|8\n",
      "0, 1, 4, 2, 3|7|8\n",
      "0, 1, 4, 3, 2|9|7\n",
      "0, 2, 1, 3, 4|7|8\n",
      "0, 2, 1, 4, 3|7|8\n",
      "0, 2, 3, 1, 4|9|9\n",
      "0, 2, 3, 4, 1|10|7\n",
      "0, 2, 4, 1, 3|9|8\n",
      "0, 2, 4, 3, 1|10|7\n",
      "0, 3, 1, 2, 4|7|9\n",
      "0, 3, 1, 4, 2|9|7\n",
      "0, 3, 2, 1, 4|9|10\n",
      "0, 3, 2, 4, 1|10|8\n",
      "0, 3, 4, 1, 2|9|7\n",
      "0, 3, 4, 2, 1|10|7\n",
      "0, 4, 1, 2, 3|7|8\n",
      "0, 4, 1, 3, 2|9|7\n",
      "0, 4, 2, 1, 3|9|9\n",
      "0, 4, 2, 3, 1|10|8\n",
      "0, 4, 3, 1, 2|9|8\n",
      "0, 4, 3, 2, 1|10|7\n",
      "1, 0, 2, 3, 4|7|9\n",
      "1, 0, 2, 4, 3|7|9\n",
      "1, 0, 3, 2, 4|7|8\n",
      "1, 0, 3, 4, 2|9|8\n",
      "1, 0, 4, 2, 3|7|8\n",
      "1, 0, 4, 3, 2|9|7\n",
      "1, 2, 0, 3, 4|9|8\n",
      "1, 2, 0, 4, 3|9|8\n",
      "1, 2, 3, 0, 4|10|9\n",
      "1, 2, 3, 4, 0|10|7\n",
      "1, 2, 4, 0, 3|10|8\n",
      "1, 2, 4, 3, 0|10|7\n",
      "1, 3, 0, 2, 4|9|9\n",
      "1, 3, 0, 4, 2|9|7\n",
      "1, 3, 2, 0, 4|10|10\n",
      "1, 3, 2, 4, 0|10|8\n",
      "1, 3, 4, 0, 2|10|7\n",
      "1, 3, 4, 2, 0|10|7\n",
      "1, 4, 0, 2, 3|9|8\n",
      "1, 4, 0, 3, 2|9|7\n",
      "1, 4, 2, 0, 3|10|9\n",
      "1, 4, 2, 3, 0|10|8\n",
      "1, 4, 3, 0, 2|10|8\n",
      "1, 4, 3, 2, 0|10|7\n",
      "2, 0, 1, 3, 4|7|8\n",
      "2, 0, 1, 4, 3|7|8\n",
      "2, 0, 3, 1, 4|9|8\n",
      "2, 0, 3, 4, 1|10|7\n",
      "2, 0, 4, 1, 3|9|9\n",
      "2, 0, 4, 3, 1|10|8\n",
      "2, 1, 0, 3, 4|9|8\n",
      "2, 1, 0, 4, 3|9|8\n",
      "2, 1, 3, 0, 4|10|8\n",
      "2, 1, 3, 4, 0|10|7\n",
      "2, 1, 4, 0, 3|10|9\n",
      "2, 1, 4, 3, 0|10|8\n",
      "2, 3, 0, 1, 4|9|9\n",
      "2, 3, 0, 4, 1|10|7\n",
      "2, 3, 1, 0, 4|10|9\n",
      "2, 3, 1, 4, 0|10|7\n",
      "2, 3, 4, 0, 1|10|8\n",
      "2, 3, 4, 1, 0|10|8\n",
      "2, 4, 0, 1, 3|9|8\n",
      "2, 4, 0, 3, 1|10|7\n",
      "2, 4, 1, 0, 3|10|8\n",
      "2, 4, 1, 3, 0|10|7\n",
      "2, 4, 3, 0, 1|10|7\n",
      "2, 4, 3, 1, 0|10|7\n",
      "3, 0, 1, 2, 4|7|8\n",
      "3, 0, 1, 4, 2|9|7\n",
      "3, 0, 2, 1, 4|9|9\n",
      "3, 0, 2, 4, 1|10|8\n",
      "3, 0, 4, 1, 2|9|8\n",
      "3, 0, 4, 2, 1|10|7\n",
      "3, 1, 0, 2, 4|9|8\n",
      "3, 1, 0, 4, 2|9|7\n",
      "3, 1, 2, 0, 4|10|9\n",
      "3, 1, 2, 4, 0|10|8\n",
      "3, 1, 4, 0, 2|10|8\n",
      "3, 1, 4, 2, 0|10|7\n",
      "3, 2, 0, 1, 4|9|8\n",
      "3, 2, 0, 4, 1|10|7\n",
      "3, 2, 1, 0, 4|10|8\n",
      "3, 2, 1, 4, 0|10|7\n",
      "3, 2, 4, 0, 1|10|7\n",
      "3, 2, 4, 1, 0|10|7\n",
      "3, 4, 0, 1, 2|9|7\n",
      "3, 4, 0, 2, 1|10|7\n",
      "3, 4, 1, 0, 2|10|7\n",
      "3, 4, 1, 2, 0|10|7\n",
      "3, 4, 2, 0, 1|10|8\n",
      "3, 4, 2, 1, 0|10|8\n",
      "4, 0, 1, 2, 3|7|7\n",
      "4, 0, 1, 3, 2|9|6\n",
      "4, 0, 2, 1, 3|9|8\n",
      "4, 0, 2, 3, 1|10|7\n",
      "4, 0, 3, 1, 2|9|7\n",
      "4, 0, 3, 2, 1|10|6\n",
      "4, 1, 0, 2, 3|9|7\n",
      "4, 1, 0, 3, 2|9|6\n",
      "4, 1, 2, 0, 3|10|8\n",
      "4, 1, 2, 3, 0|10|7\n",
      "4, 1, 3, 0, 2|10|7\n",
      "4, 1, 3, 2, 0|10|6\n",
      "4, 2, 0, 1, 3|9|7\n",
      "4, 2, 0, 3, 1|10|6\n",
      "4, 2, 1, 0, 3|10|7\n",
      "4, 2, 1, 3, 0|10|6\n",
      "4, 2, 3, 0, 1|10|6\n",
      "4, 2, 3, 1, 0|10|6\n",
      "4, 3, 0, 1, 2|9|6\n",
      "4, 3, 0, 2, 1|10|6\n",
      "4, 3, 1, 0, 2|10|6\n",
      "4, 3, 1, 2, 0|10|6\n",
      "4, 3, 2, 0, 1|10|7\n",
      "4, 3, 2, 1, 0|10|7\n"
     ]
    }
   ],
   "source": [
    "#module full of combinatorial functions\n",
    "import itertools\n",
    "\n",
    "\n",
    "#length of example list\n",
    "n = 5\n",
    "\n",
    "\n",
    "#loop through all premutations of the list of integers from 0 to n\n",
    "for perm in itertools.permutations(range(5)):\n",
    "    L = list(perm)\n",
    "    bubb_comp = bubble_sort(L)\n",
    "    L = list(perm)\n",
    "    heap_comp = heapsort(L)\n",
    "    print(f'{str(perm)[1:-1]}|{bubb_comp}|{heap_comp}')"
   ]
  },
  {
   "cell_type": "code",
   "execution_count": 49,
   "id": "1464821e",
   "metadata": {},
   "outputs": [],
   "source": [
    "#like excel for python\n",
    "import pandas as pd"
   ]
  },
  {
   "cell_type": "code",
   "execution_count": 50,
   "id": "bfb05c43",
   "metadata": {},
   "outputs": [],
   "source": [
    "#length of example list\n",
    "n = 5\n",
    "\n",
    "results = [[str(perm)[1:-1], bubble_sort(list(perm)), heapsort(list(perm))] for perm in itertools.permutations(range(n))]"
   ]
  },
  {
   "cell_type": "code",
   "execution_count": 51,
   "id": "d9d0ed82",
   "metadata": {},
   "outputs": [
    {
     "data": {
      "text/plain": [
       "[['0, 1, 2, 3, 4', 4, 9],\n",
       " ['0, 1, 2, 4, 3', 7, 9],\n",
       " ['0, 1, 3, 2, 4', 7, 8],\n",
       " ['0, 1, 3, 4, 2', 9, 8],\n",
       " ['0, 1, 4, 2, 3', 7, 8],\n",
       " ['0, 1, 4, 3, 2', 9, 7],\n",
       " ['0, 2, 1, 3, 4', 7, 8],\n",
       " ['0, 2, 1, 4, 3', 7, 8],\n",
       " ['0, 2, 3, 1, 4', 9, 9],\n",
       " ['0, 2, 3, 4, 1', 10, 7],\n",
       " ['0, 2, 4, 1, 3', 9, 8],\n",
       " ['0, 2, 4, 3, 1', 10, 7],\n",
       " ['0, 3, 1, 2, 4', 7, 9],\n",
       " ['0, 3, 1, 4, 2', 9, 7],\n",
       " ['0, 3, 2, 1, 4', 9, 10],\n",
       " ['0, 3, 2, 4, 1', 10, 8],\n",
       " ['0, 3, 4, 1, 2', 9, 7],\n",
       " ['0, 3, 4, 2, 1', 10, 7],\n",
       " ['0, 4, 1, 2, 3', 7, 8],\n",
       " ['0, 4, 1, 3, 2', 9, 7],\n",
       " ['0, 4, 2, 1, 3', 9, 9],\n",
       " ['0, 4, 2, 3, 1', 10, 8],\n",
       " ['0, 4, 3, 1, 2', 9, 8],\n",
       " ['0, 4, 3, 2, 1', 10, 7],\n",
       " ['1, 0, 2, 3, 4', 7, 9],\n",
       " ['1, 0, 2, 4, 3', 7, 9],\n",
       " ['1, 0, 3, 2, 4', 7, 8],\n",
       " ['1, 0, 3, 4, 2', 9, 8],\n",
       " ['1, 0, 4, 2, 3', 7, 8],\n",
       " ['1, 0, 4, 3, 2', 9, 7],\n",
       " ['1, 2, 0, 3, 4', 9, 8],\n",
       " ['1, 2, 0, 4, 3', 9, 8],\n",
       " ['1, 2, 3, 0, 4', 10, 9],\n",
       " ['1, 2, 3, 4, 0', 10, 7],\n",
       " ['1, 2, 4, 0, 3', 10, 8],\n",
       " ['1, 2, 4, 3, 0', 10, 7],\n",
       " ['1, 3, 0, 2, 4', 9, 9],\n",
       " ['1, 3, 0, 4, 2', 9, 7],\n",
       " ['1, 3, 2, 0, 4', 10, 10],\n",
       " ['1, 3, 2, 4, 0', 10, 8],\n",
       " ['1, 3, 4, 0, 2', 10, 7],\n",
       " ['1, 3, 4, 2, 0', 10, 7],\n",
       " ['1, 4, 0, 2, 3', 9, 8],\n",
       " ['1, 4, 0, 3, 2', 9, 7],\n",
       " ['1, 4, 2, 0, 3', 10, 9],\n",
       " ['1, 4, 2, 3, 0', 10, 8],\n",
       " ['1, 4, 3, 0, 2', 10, 8],\n",
       " ['1, 4, 3, 2, 0', 10, 7],\n",
       " ['2, 0, 1, 3, 4', 7, 8],\n",
       " ['2, 0, 1, 4, 3', 7, 8],\n",
       " ['2, 0, 3, 1, 4', 9, 8],\n",
       " ['2, 0, 3, 4, 1', 10, 7],\n",
       " ['2, 0, 4, 1, 3', 9, 9],\n",
       " ['2, 0, 4, 3, 1', 10, 8],\n",
       " ['2, 1, 0, 3, 4', 9, 8],\n",
       " ['2, 1, 0, 4, 3', 9, 8],\n",
       " ['2, 1, 3, 0, 4', 10, 8],\n",
       " ['2, 1, 3, 4, 0', 10, 7],\n",
       " ['2, 1, 4, 0, 3', 10, 9],\n",
       " ['2, 1, 4, 3, 0', 10, 8],\n",
       " ['2, 3, 0, 1, 4', 9, 9],\n",
       " ['2, 3, 0, 4, 1', 10, 7],\n",
       " ['2, 3, 1, 0, 4', 10, 9],\n",
       " ['2, 3, 1, 4, 0', 10, 7],\n",
       " ['2, 3, 4, 0, 1', 10, 8],\n",
       " ['2, 3, 4, 1, 0', 10, 8],\n",
       " ['2, 4, 0, 1, 3', 9, 8],\n",
       " ['2, 4, 0, 3, 1', 10, 7],\n",
       " ['2, 4, 1, 0, 3', 10, 8],\n",
       " ['2, 4, 1, 3, 0', 10, 7],\n",
       " ['2, 4, 3, 0, 1', 10, 7],\n",
       " ['2, 4, 3, 1, 0', 10, 7],\n",
       " ['3, 0, 1, 2, 4', 7, 8],\n",
       " ['3, 0, 1, 4, 2', 9, 7],\n",
       " ['3, 0, 2, 1, 4', 9, 9],\n",
       " ['3, 0, 2, 4, 1', 10, 8],\n",
       " ['3, 0, 4, 1, 2', 9, 8],\n",
       " ['3, 0, 4, 2, 1', 10, 7],\n",
       " ['3, 1, 0, 2, 4', 9, 8],\n",
       " ['3, 1, 0, 4, 2', 9, 7],\n",
       " ['3, 1, 2, 0, 4', 10, 9],\n",
       " ['3, 1, 2, 4, 0', 10, 8],\n",
       " ['3, 1, 4, 0, 2', 10, 8],\n",
       " ['3, 1, 4, 2, 0', 10, 7],\n",
       " ['3, 2, 0, 1, 4', 9, 8],\n",
       " ['3, 2, 0, 4, 1', 10, 7],\n",
       " ['3, 2, 1, 0, 4', 10, 8],\n",
       " ['3, 2, 1, 4, 0', 10, 7],\n",
       " ['3, 2, 4, 0, 1', 10, 7],\n",
       " ['3, 2, 4, 1, 0', 10, 7],\n",
       " ['3, 4, 0, 1, 2', 9, 7],\n",
       " ['3, 4, 0, 2, 1', 10, 7],\n",
       " ['3, 4, 1, 0, 2', 10, 7],\n",
       " ['3, 4, 1, 2, 0', 10, 7],\n",
       " ['3, 4, 2, 0, 1', 10, 8],\n",
       " ['3, 4, 2, 1, 0', 10, 8],\n",
       " ['4, 0, 1, 2, 3', 7, 7],\n",
       " ['4, 0, 1, 3, 2', 9, 6],\n",
       " ['4, 0, 2, 1, 3', 9, 8],\n",
       " ['4, 0, 2, 3, 1', 10, 7],\n",
       " ['4, 0, 3, 1, 2', 9, 7],\n",
       " ['4, 0, 3, 2, 1', 10, 6],\n",
       " ['4, 1, 0, 2, 3', 9, 7],\n",
       " ['4, 1, 0, 3, 2', 9, 6],\n",
       " ['4, 1, 2, 0, 3', 10, 8],\n",
       " ['4, 1, 2, 3, 0', 10, 7],\n",
       " ['4, 1, 3, 0, 2', 10, 7],\n",
       " ['4, 1, 3, 2, 0', 10, 6],\n",
       " ['4, 2, 0, 1, 3', 9, 7],\n",
       " ['4, 2, 0, 3, 1', 10, 6],\n",
       " ['4, 2, 1, 0, 3', 10, 7],\n",
       " ['4, 2, 1, 3, 0', 10, 6],\n",
       " ['4, 2, 3, 0, 1', 10, 6],\n",
       " ['4, 2, 3, 1, 0', 10, 6],\n",
       " ['4, 3, 0, 1, 2', 9, 6],\n",
       " ['4, 3, 0, 2, 1', 10, 6],\n",
       " ['4, 3, 1, 0, 2', 10, 6],\n",
       " ['4, 3, 1, 2, 0', 10, 6],\n",
       " ['4, 3, 2, 0, 1', 10, 7],\n",
       " ['4, 3, 2, 1, 0', 10, 7]]"
      ]
     },
     "execution_count": 51,
     "metadata": {},
     "output_type": "execute_result"
    }
   ],
   "source": [
    "#peak at results\n",
    "results"
   ]
  },
  {
   "cell_type": "code",
   "execution_count": 52,
   "id": "aa3718ae",
   "metadata": {},
   "outputs": [],
   "source": [
    "df = pd.DataFrame(results, columns = ['list', 'bubble', 'heap'])"
   ]
  },
  {
   "cell_type": "code",
   "execution_count": 53,
   "id": "01ec2453",
   "metadata": {},
   "outputs": [
    {
     "data": {
      "text/html": [
       "<div>\n",
       "<style scoped>\n",
       "    .dataframe tbody tr th:only-of-type {\n",
       "        vertical-align: middle;\n",
       "    }\n",
       "\n",
       "    .dataframe tbody tr th {\n",
       "        vertical-align: top;\n",
       "    }\n",
       "\n",
       "    .dataframe thead th {\n",
       "        text-align: right;\n",
       "    }\n",
       "</style>\n",
       "<table border=\"1\" class=\"dataframe\">\n",
       "  <thead>\n",
       "    <tr style=\"text-align: right;\">\n",
       "      <th></th>\n",
       "      <th>list</th>\n",
       "      <th>bubble</th>\n",
       "      <th>heap</th>\n",
       "    </tr>\n",
       "  </thead>\n",
       "  <tbody>\n",
       "    <tr>\n",
       "      <th>0</th>\n",
       "      <td>0, 1, 2, 3, 4</td>\n",
       "      <td>4</td>\n",
       "      <td>9</td>\n",
       "    </tr>\n",
       "    <tr>\n",
       "      <th>1</th>\n",
       "      <td>0, 1, 2, 4, 3</td>\n",
       "      <td>7</td>\n",
       "      <td>9</td>\n",
       "    </tr>\n",
       "    <tr>\n",
       "      <th>2</th>\n",
       "      <td>0, 1, 3, 2, 4</td>\n",
       "      <td>7</td>\n",
       "      <td>8</td>\n",
       "    </tr>\n",
       "    <tr>\n",
       "      <th>3</th>\n",
       "      <td>0, 1, 3, 4, 2</td>\n",
       "      <td>9</td>\n",
       "      <td>8</td>\n",
       "    </tr>\n",
       "    <tr>\n",
       "      <th>4</th>\n",
       "      <td>0, 1, 4, 2, 3</td>\n",
       "      <td>7</td>\n",
       "      <td>8</td>\n",
       "    </tr>\n",
       "    <tr>\n",
       "      <th>...</th>\n",
       "      <td>...</td>\n",
       "      <td>...</td>\n",
       "      <td>...</td>\n",
       "    </tr>\n",
       "    <tr>\n",
       "      <th>115</th>\n",
       "      <td>4, 3, 0, 2, 1</td>\n",
       "      <td>10</td>\n",
       "      <td>6</td>\n",
       "    </tr>\n",
       "    <tr>\n",
       "      <th>116</th>\n",
       "      <td>4, 3, 1, 0, 2</td>\n",
       "      <td>10</td>\n",
       "      <td>6</td>\n",
       "    </tr>\n",
       "    <tr>\n",
       "      <th>117</th>\n",
       "      <td>4, 3, 1, 2, 0</td>\n",
       "      <td>10</td>\n",
       "      <td>6</td>\n",
       "    </tr>\n",
       "    <tr>\n",
       "      <th>118</th>\n",
       "      <td>4, 3, 2, 0, 1</td>\n",
       "      <td>10</td>\n",
       "      <td>7</td>\n",
       "    </tr>\n",
       "    <tr>\n",
       "      <th>119</th>\n",
       "      <td>4, 3, 2, 1, 0</td>\n",
       "      <td>10</td>\n",
       "      <td>7</td>\n",
       "    </tr>\n",
       "  </tbody>\n",
       "</table>\n",
       "<p>120 rows × 3 columns</p>\n",
       "</div>"
      ],
      "text/plain": [
       "              list  bubble  heap\n",
       "0    0, 1, 2, 3, 4       4     9\n",
       "1    0, 1, 2, 4, 3       7     9\n",
       "2    0, 1, 3, 2, 4       7     8\n",
       "3    0, 1, 3, 4, 2       9     8\n",
       "4    0, 1, 4, 2, 3       7     8\n",
       "..             ...     ...   ...\n",
       "115  4, 3, 0, 2, 1      10     6\n",
       "116  4, 3, 1, 0, 2      10     6\n",
       "117  4, 3, 1, 2, 0      10     6\n",
       "118  4, 3, 2, 0, 1      10     7\n",
       "119  4, 3, 2, 1, 0      10     7\n",
       "\n",
       "[120 rows x 3 columns]"
      ]
     },
     "execution_count": 53,
     "metadata": {},
     "output_type": "execute_result"
    }
   ],
   "source": [
    "df"
   ]
  },
  {
   "cell_type": "code",
   "execution_count": 54,
   "id": "a202c87f",
   "metadata": {},
   "outputs": [
    {
     "data": {
      "text/html": [
       "<div>\n",
       "<style scoped>\n",
       "    .dataframe tbody tr th:only-of-type {\n",
       "        vertical-align: middle;\n",
       "    }\n",
       "\n",
       "    .dataframe tbody tr th {\n",
       "        vertical-align: top;\n",
       "    }\n",
       "\n",
       "    .dataframe thead th {\n",
       "        text-align: right;\n",
       "    }\n",
       "</style>\n",
       "<table border=\"1\" class=\"dataframe\">\n",
       "  <thead>\n",
       "    <tr style=\"text-align: right;\">\n",
       "      <th></th>\n",
       "      <th>bubble</th>\n",
       "      <th>heap</th>\n",
       "    </tr>\n",
       "  </thead>\n",
       "  <tbody>\n",
       "    <tr>\n",
       "      <th>count</th>\n",
       "      <td>120.000000</td>\n",
       "      <td>120.000000</td>\n",
       "    </tr>\n",
       "    <tr>\n",
       "      <th>mean</th>\n",
       "      <td>9.258333</td>\n",
       "      <td>7.583333</td>\n",
       "    </tr>\n",
       "    <tr>\n",
       "      <th>std</th>\n",
       "      <td>1.096180</td>\n",
       "      <td>0.903619</td>\n",
       "    </tr>\n",
       "    <tr>\n",
       "      <th>min</th>\n",
       "      <td>4.000000</td>\n",
       "      <td>6.000000</td>\n",
       "    </tr>\n",
       "    <tr>\n",
       "      <th>25%</th>\n",
       "      <td>9.000000</td>\n",
       "      <td>7.000000</td>\n",
       "    </tr>\n",
       "    <tr>\n",
       "      <th>50%</th>\n",
       "      <td>10.000000</td>\n",
       "      <td>8.000000</td>\n",
       "    </tr>\n",
       "    <tr>\n",
       "      <th>75%</th>\n",
       "      <td>10.000000</td>\n",
       "      <td>8.000000</td>\n",
       "    </tr>\n",
       "    <tr>\n",
       "      <th>max</th>\n",
       "      <td>10.000000</td>\n",
       "      <td>10.000000</td>\n",
       "    </tr>\n",
       "  </tbody>\n",
       "</table>\n",
       "</div>"
      ],
      "text/plain": [
       "           bubble        heap\n",
       "count  120.000000  120.000000\n",
       "mean     9.258333    7.583333\n",
       "std      1.096180    0.903619\n",
       "min      4.000000    6.000000\n",
       "25%      9.000000    7.000000\n",
       "50%     10.000000    8.000000\n",
       "75%     10.000000    8.000000\n",
       "max     10.000000   10.000000"
      ]
     },
     "execution_count": 54,
     "metadata": {},
     "output_type": "execute_result"
    }
   ],
   "source": [
    "df.describe()"
   ]
  },
  {
   "cell_type": "code",
   "execution_count": null,
   "id": "50e21b32",
   "metadata": {},
   "outputs": [],
   "source": []
  },
  {
   "cell_type": "markdown",
   "id": "acd8f82e",
   "metadata": {},
   "source": [
    "### Extras\n",
    "***"
   ]
  },
  {
   "cell_type": "code",
   "execution_count": 55,
   "id": "0022ea7a",
   "metadata": {},
   "outputs": [
    {
     "name": "stdout",
     "output_type": "stream",
     "text": [
      "1\n"
     ]
    }
   ],
   "source": [
    "# int's are passed by value.\n",
    "\n",
    "# Function: b is a value.\n",
    "def change(b):\n",
    "    # Change value of b.\n",
    "    b = 2\n",
    "\n",
    "# Variable a set to 1.\n",
    "a = 1\n",
    "\n",
    "# a is passed by value.\n",
    "change(a)\n",
    "\n",
    "# a has not changed.\n",
    "print(a)"
   ]
  },
  {
   "cell_type": "code",
   "execution_count": 56,
   "id": "b69cee89",
   "metadata": {},
   "outputs": [
    {
     "name": "stdout",
     "output_type": "stream",
     "text": [
      "[1, 2, 100, 4]\n"
     ]
    }
   ],
   "source": [
    "# lists are passed by reference.\n",
    "\n",
    "# Function: a is a reference.\n",
    "def change(b):\n",
    "    # Change an element.\n",
    "    b[2] = 100\n",
    "\n",
    "# List.\n",
    "a = [1, 2, 3, 4]\n",
    "\n",
    "# Pass a to change.\n",
    "change(a)\n",
    "\n",
    "# a has changed.\n",
    "print(a)"
   ]
  },
  {
   "cell_type": "code",
   "execution_count": 57,
   "id": "e91bd27b",
   "metadata": {},
   "outputs": [],
   "source": [
    "a = 3.56\n",
    "b = 2.84\n",
    "c = 0.24"
   ]
  },
  {
   "cell_type": "code",
   "execution_count": 58,
   "id": "14e315fc",
   "metadata": {},
   "outputs": [
    {
     "data": {
      "text/plain": [
       "0.3008450704225352"
      ]
     },
     "execution_count": 58,
     "metadata": {},
     "output_type": "execute_result"
    }
   ],
   "source": [
    "a*c/b"
   ]
  },
  {
   "cell_type": "code",
   "execution_count": null,
   "id": "d651605c",
   "metadata": {},
   "outputs": [],
   "source": []
  }
 ],
 "metadata": {
  "kernelspec": {
   "display_name": "Python 3 (ipykernel)",
   "language": "python",
   "name": "python3"
  },
  "language_info": {
   "codemirror_mode": {
    "name": "ipython",
    "version": 3
   },
   "file_extension": ".py",
   "mimetype": "text/x-python",
   "name": "python",
   "nbconvert_exporter": "python",
   "pygments_lexer": "ipython3",
   "version": "3.9.7"
  }
 },
 "nbformat": 4,
 "nbformat_minor": 5
}
